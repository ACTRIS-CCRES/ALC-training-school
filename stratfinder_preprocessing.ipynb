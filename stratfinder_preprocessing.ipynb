{
 "cells": [
  {
   "cell_type": "markdown",
   "metadata": {},
   "source": [
    "# CCRESS Training School - MUNICH 2025\n",
    "### STRATfinder : an automated detection algorithm of the mixed layer height\n",
    "#### NoteBook 1/2 : Signal Corrections\n",
    "This code explores corrections that should be applied to attenuated backscatter observations observed with automatic lidars and ceiloeters (ALC). \n",
    "\n",
    "ALC continuously probe the atmosphere, operating 24/7, with a temporal resolution of seconds and a vertical resolution ranging from 5 to 15 meters depending on the instrument. \n",
    "\n",
    "Here, three ALC models are considered that are commonly deployed at ACTRIS NF: Lufft/Ott Hydromet CHM15k, Vaisala CL51, and Vaisala CL61.\n",
    "\n",
    "INput files need to be processed with raw2l1 (M.-A. Drouin, SIRTA) - https://github.com/ACTRIS-CCRES/raw2l1.git - before applying STRATFinder.\n",
    "\n",
    "Once the raw signals are corrected, the STRATFinder algorithm (Kotthaus et al. 2020) - https://gitlab.in2p3.fr/ipsl/sirta/mld/stratfinder/stratfinder.git - can be applied to detect and track the mixed layer height (MLH).\n",
    "\n",
    "#### M. Van Hove, IPSL & S. Kotthaus, Ecole Polytechnique \n",
    "#### Contact : mvanhove@ipsl.fr"
   ]
  },
  {
   "cell_type": "code",
   "execution_count": null,
   "metadata": {},
   "outputs": [],
   "source": [
    "#1\n",
    "### ------- Import libraries ------- \n",
    "\n",
    "import xarray as xr\n",
    "import numpy as np\n",
    "import pandas as pd\n",
    "import matplotlib.pyplot as plt\n",
    "import matplotlib.gridspec as gridspec\n",
    "import matplotlib.image as mpimg\n",
    "import importlib\n",
    "\n",
    "from datetime import date\n",
    "\n",
    "from functions import from_df_to_pivot, plot_overlap_corrections, plot_MLH"
   ]
  },
  {
   "cell_type": "code",
   "execution_count": null,
   "metadata": {},
   "outputs": [],
   "source": [
    "#2\n",
    "### in case you edit the functions you need to reload them : \n",
    "import functions\n",
    "importlib.reload(functions)\n",
    "from functions import from_df_to_pivot, plot_overlap_corrections, plot_MLH\n",
    "#import functions"
   ]
  },
  {
   "cell_type": "code",
   "execution_count": null,
   "metadata": {},
   "outputs": [],
   "source": [
    "#3\n",
    "## -------- Path to data ----------- \n",
    "\n",
    "path_data = \"/data/ACTRIS-CCRES/abl_heights\"\n"
   ]
  },
  {
   "cell_type": "markdown",
   "metadata": {},
   "source": [
    "#### Load data\n",
    "#### L1 Format : E-Profile, processed with raw2l1 \n"
   ]
  },
  {
   "cell_type": "code",
   "execution_count": null,
   "metadata": {
    "scrolled": true
   },
   "outputs": [],
   "source": [
    "#4\n",
    "### =========== CHM15k ============\n",
    "# The CHM15k provide attenuated backscatter from around 100m to 15km => it has a near-range blind zone and an incomplete overlap zone which requires a correction  \n",
    "\n",
    "# raw signal : L1 files \n",
    "raw_signal_chm_palaiseau = xr.open_mfdataset(f\"{path_data}/eprofile_1a_LpalaiseauIchm15k_v01_20220704_000011_1440.nc\").rcs_0.to_dataframe()\n",
    "raw_signal_chm_payerne = xr.open_mfdataset(f\"{path_data}/eprofile_1a_LpayerneIchm15k_v01_20220718_000011_1440.nc\").rcs_0.to_dataframe()\n",
    "raw_signal_chm_granada = xr.open_mfdataset(f\"{path_data}/eprofile_1a_LgranadaIchm15k_v01_20220718_000011_1440.nc\").rcs_0.to_dataframe()\n",
    "\n",
    "# overlap correction\n",
    "overlap_correction_palaiseau = xr.open_dataset(f\"{path_data}/Hervo_overlapmodel_palaiseau_chm15k_B_TUB140013_15m.nc\").to_dataframe()\n",
    "overlap_correction_granada = xr.open_dataset(f\"{path_data}/Hervo_overlapmodel_granada_chm15k_A_TUB170006_15m.nc\").to_dataframe()\n",
    "overlap_correction_payerne = xr.open_dataset(f\"{path_data}/Hervo_overlapmodel_payerne_chm15k_A_TUB140016_15m.nc\").to_dataframe()\n",
    "\n",
    "# corrected & calibrated signal \n",
    "corrected_signal_chm_palaiseau = xr.open_mfdataset(f\"{path_data}/eprofile_BSC_STRATFINDER_palaiseau_chm15k-B_v01_20220704.nc\").beta.to_dataframe() \n",
    "corrected_signal_chm_payerne = xr.open_mfdataset(f\"{path_data}/eprofile_BSC_STRATFINDER_payerne_chm15k-A_v01_20220718.nc\").beta.to_dataframe()\n",
    "corrected_signal_chm_granada = xr.open_mfdataset(f\"{path_data}/eprofile_BSC_STRATFINDER_granada_chm15k-A_v01_20220718.nc\").beta.to_dataframe()\n",
    "corrected_signal_chm_paris = xr.open_dataset(f\"{path_data}/eprofile_BSC_STRATFINDER_qualair_chm15k-A_v01_20220702.nc\").beta.to_dataframe()\n",
    "signal_2022_07_06_palaiseau = xr.open_mfdataset(f\"{path_data}/eprofile_BSC_STRATFINDER_palaiseau_chm15k-B_v01_20220706.nc\").beta.to_dataframe()\n",
    "\n",
    "# Mixed layer height retrieved by STRATfinder (MLH)\n",
    "MLH_raw_signal = xr.open_mfdataset(f\"{path_data}/eprofile_1a_LpalaiseauIchm15k_v01_20220704_000011_1440_L2A_noov.nc\").to_dataframe()\n",
    "MLH_corrected_signal = xr.open_mfdataset(f\"{path_data}/eprofile_L2B_STRATFINDER_palaiseau_chm15k-B_v01_20220704.nc\").to_dataframe()\n",
    "MLH_2022_07_06_palaiseau = xr.open_mfdataset(f\"{path_data}/eprofile_L2B_STRATFINDER_palaiseau_chm15k-B_v01_20220706.nc\").to_dataframe()\n",
    "MLH_CHM15k = xr.open_dataset(f\"{path_data}/eprofile_1a_LqualairIchm15k_v01_20220702_000011_1440_L2A_140m.nc\").to_dataframe()"
   ]
  },
  {
   "cell_type": "code",
   "execution_count": null,
   "metadata": {},
   "outputs": [],
   "source": [
    "#5\n",
    "### =========== CL61 ==============\n",
    "# The CL61 provide attenuated backscatter from first gate to 15km\n",
    "# No correction should be required according to Vaisala, although a near-range correction is in progress at SIRTA  \n",
    "\n",
    "# raw signal : L1 files\n",
    "L1_CL61 =  xr.open_dataset(f\"{path_data}/cl61_1a_HOTE_v01_20220702_000000_1440.nc\").rcs_0.to_dataframe()\n",
    "\n",
    "# Mixed layer height derived by STRATfinder (MLH)\n",
    "MLH_CL61 = xr.open_dataset(f\"{path_data}/cl61_1a_HOTE_v01_20220702_000000_1440_L2A_140.nc\").to_dataframe()"
   ]
  },
  {
   "cell_type": "code",
   "execution_count": null,
   "metadata": {},
   "outputs": [],
   "source": [
    "#6\n",
    "### =========== CL51 ==============\n",
    "# The CL51 provide attenuated backscatter from 1st gate to ~15km, however the signal becomes very noisy from ~7km onwards and an overestimation of the signal up to ~500m requires a correction \n",
    "\n",
    "# raw signal : L1 files\n",
    "raw_signal_cl51 = xr.open_dataset(f\"{path_data}/eprofile_1a_LkarlovIcl51_v01_20190604_000011_1440.nc\").rcs_0.to_dataframe()\n",
    "\n",
    "# correction\n",
    "corr_cl51 = xr.open_mfdataset(f\"{path_data}/cl51_correction_karlov.nc\").to_dataframe()\n",
    "\n",
    "# corrected signal \n",
    "corrected_signal_cl51 = xr.open_mfdataset(f\"{path_data}/eprofile_L1B_CABAM_karlov_cl51-A_v01_20190604.nc\").RBCS.to_dataframe()\n",
    "corrected_signal_cl51 = corrected_signal_cl51.reorder_levels([\"time\", \"station\", \"range\"]).sort_index()\n",
    "\n",
    "# Mixed layer height derived by STRATfinder (MLH)\n",
    "MLH_raw_CL51 = xr.open_mfdataset(f\"{path_data}/eprofile_1a_LkarlovIcl51_v01_20190604_000011_1440_L2A_nocorr_new.nc\").to_dataframe()\n",
    "MLH_corrected_CL51 = xr.open_mfdataset(f\"{path_data}/eprofile_1a_LkarlovIcl51_v01_20190604_000011_1440_L2A.nc\").to_dataframe()\n"
   ]
  },
  {
   "cell_type": "markdown",
   "metadata": {},
   "source": [
    "## CHM15k"
   ]
  },
  {
   "cell_type": "markdown",
   "metadata": {},
   "source": [
    "The CHM15k provide attenuated backscatter from around 15m to 15km. However, for most sensors, the lowest 200m only capture noise \n",
    "(near-range blind zone) and data up to about 500m have to be corrected for the incomplete optical overlap (Hervo et al. 2016)"
   ]
  },
  {
   "cell_type": "code",
   "execution_count": null,
   "metadata": {},
   "outputs": [],
   "source": [
    "#7\n",
    "### Make the data easier to handle and lighter\n",
    "\n",
    "# uncorrected signal\n",
    "raw_signal_chm_palaiseau = from_df_to_pivot(raw_signal_chm_palaiseau, 'rcs_0', 1) \n",
    "raw_signal_chm_payerne = from_df_to_pivot(raw_signal_chm_payerne, 'rcs_0', 1) \n",
    "raw_signal_chm_granada = from_df_to_pivot(raw_signal_chm_granada, 'rcs_0', 1) \n",
    "\n",
    "# corrected signal \n",
    "corrected_signal_chm_palaiseau = from_df_to_pivot(corrected_signal_chm_palaiseau, 'beta', 1)\n",
    "corrected_signal_chm_payerne = from_df_to_pivot(corrected_signal_chm_payerne, 'beta', 1)\n",
    "corrected_signal_chm_granada = from_df_to_pivot(corrected_signal_chm_granada, 'beta', 1)\n",
    "\n",
    "# crop data\n",
    "raw_signal_chm_palaiseau = raw_signal_chm_palaiseau.loc[:3000]\n",
    "raw_signal_chm_payerne = raw_signal_chm_payerne.loc[:3000]\n",
    "raw_signal_chm_granada = raw_signal_chm_granada.loc[:3000]\n",
    "\n",
    "corrected_signal_chm_palaiseau = corrected_signal_chm_palaiseau.loc[:3000]\n",
    "corrected_signal_chm_payerne = corrected_signal_chm_payerne.loc[:3000]\n",
    "corrected_signal_chm_granada = corrected_signal_chm_granada.loc[:3000]\n",
    "\n",
    "# MLH resampled\n",
    "MLH_raw_signal = MLH_raw_signal.droplevel(\"station\").MLH.resample(\"15min\").mean()\n",
    "MLH_corrected_signal = MLH_corrected_signal.droplevel(\"station_name\").MLH.resample(\"15min\").mean()"
   ]
  },
  {
   "cell_type": "code",
   "execution_count": null,
   "metadata": {},
   "outputs": [],
   "source": [
    "#8\n",
    "### Example of the raw attenuated backscatter signal ready to be used for plot and analysis\n",
    "\n",
    "raw_signal_chm_palaiseau"
   ]
  },
  {
   "cell_type": "code",
   "execution_count": null,
   "metadata": {
    "scrolled": true
   },
   "outputs": [],
   "source": [
    "#9\n",
    "### Figure of the raw attenuated backscatter signal \n",
    "\n",
    "plt.figure(figsize=(14, 9))\n",
    "\n",
    "img = mpimg.imread(f\"{path_data}/Raw_signal_SIRTA_CHM15k.png\")\n",
    "\n",
    "plt.imshow(img)\n",
    "plt.axis(\"off\") \n",
    "plt.show()"
   ]
  },
  {
   "cell_type": "markdown",
   "metadata": {},
   "source": [
    "Clear MLH develoment, in clear sky conditions\n",
    "\n",
    "Residual layers at night\n",
    "\n",
    "Blind zone : no signal up to ~150m\n",
    "\n",
    "Incomplete overlap : overestimation of the signal from ~150m to ~250m\n",
    "\n",
    "!! colorbar label should be m2*counts/s"
   ]
  },
  {
   "cell_type": "code",
   "execution_count": null,
   "metadata": {
    "scrolled": true
   },
   "outputs": [],
   "source": [
    "#10\n",
    "### Figure of the raw attenuated backscatter signal vertical gradient \n",
    "\n",
    "# The gradient is taken into account by the algorithm STRATfinder to track the MLH \n",
    "# The negative gradients are potential MLH as they are associated with sharp decreases of aerosols \n",
    "\n",
    "df = raw_signal_chm_palaiseau.T.resample(\"15min\").mean().T.diff().copy()\n",
    "\n",
    "fig, ax = plt.subplots(figsize=(12, 6))\n",
    "\n",
    "img0 = ax.pcolormesh(\n",
    "    df.columns,   \n",
    "    df.index,     \n",
    "    df.values,    \n",
    "    vmin=-3 * 10**3,\n",
    "    vmax=3 * 10**3,\n",
    "    cmap=\"viridis\",\n",
    ")\n",
    "\n",
    "# Titre et labels\n",
    "ax.set_title(\"Gradient of the attenuated backscatter signal, SIRTA 4 July 2022\", fontsize=15)\n",
    "ax.set_xlabel(\"Time\")\n",
    "ax.set_ylabel(\"Range [magl]\")\n",
    "\n",
    "# Colorbar\n",
    "cbar = fig.colorbar(img0, ax=ax, fraction=0.046, pad=0.04)\n",
    "cbar.set_label(\"Normalized range corrected signal [m⁻¹ sr⁻¹]\")"
   ]
  },
  {
   "cell_type": "markdown",
   "metadata": {},
   "source": [
    "Areas of negative vertical gradients in attenuated backscatter indicate a decrease in aerosol content (and or humidity) and could hence mark a potential layer boundary. \n",
    "Where negative gradients are consistent in space and time, this could be linked to e.g. the height of the mixed layer or the height of the residual layer.\n",
    "\n",
    "!!! colorbar label should be m2*counts/s"
   ]
  },
  {
   "cell_type": "code",
   "execution_count": null,
   "metadata": {},
   "outputs": [],
   "source": []
  },
  {
   "cell_type": "markdown",
   "metadata": {},
   "source": [
    "### CHM15k Overlap correction "
   ]
  },
  {
   "cell_type": "markdown",
   "metadata": {},
   "source": [
    "CHM15k has incomplete overlap up to a height of about 700 m.\n",
    "\n",
    "Reference corrections functions are provided by manufacturer for each sensor. However, it does not capture the real variability \n",
    "of the overlap function and is hence insufficient for a high-quality overlap correction.\n",
    "\n",
    "Recommended by ACTRIS : Temperature-dependant correction according to Hervo et al. (2016)\n",
    "\n",
    "Requirements : at least 1 year of data to derive the temperature-dependent overlap model\n",
    "\n",
    "Selection of clear-sky days : 1 correction per day (around 20% of days selected for 2 years in Payerne)\n",
    "\n",
    "For one range, considering all selected days, the correction shows a clear linear dependency on the temperature (quantified by the difference between the corrected and uncorrected signal)\n",
    "\n",
    "In Hervo et al. 2016, the lowest temperatures (e.g. in winter) lead to a correction closer to the reference correction than when high temperatures are reached\n",
    "\n",
    "Final correction : linear fit coefficients a & b (a*Temp. + b) for each range  \n"
   ]
  },
  {
   "cell_type": "code",
   "execution_count": null,
   "metadata": {},
   "outputs": [],
   "source": [
    "#11\n",
    "# Overlap correction coefficients\n",
    "\n",
    "overlap_correction_palaiseau"
   ]
  },
  {
   "cell_type": "code",
   "execution_count": null,
   "metadata": {},
   "outputs": [],
   "source": [
    "# Example : T = 20°, a = -0.1, b -10, overlap_ref = 0.00003\n",
    "# deviation = (a*T + b)/100 = -0.12\n",
    "# value = overlap_ref / (1 + deviation)  "
   ]
  },
  {
   "cell_type": "code",
   "execution_count": null,
   "metadata": {},
   "outputs": [],
   "source": [
    "#12\n",
    "# Plot corrections\n",
    "\n",
    "plot_overlap_corrections (overlap_correction_palaiseau, overlap_correction_payerne, overlap_correction_granada, \n",
    "                          raw_signal_chm_palaiseau, raw_signal_chm_payerne, raw_signal_chm_granada, \n",
    "                          corrected_signal_chm_palaiseau, corrected_signal_chm_payerne, corrected_signal_chm_granada)\n"
   ]
  },
  {
   "cell_type": "markdown",
   "metadata": {},
   "source": [
    "Left : Overlap correction functions, 3 temperature dependant functions and the reference (dotted) \n",
    "\n",
    "Right : difference between raw signal VS corrected signal "
   ]
  },
  {
   "cell_type": "code",
   "execution_count": null,
   "metadata": {},
   "outputs": [],
   "source": []
  },
  {
   "cell_type": "markdown",
   "metadata": {},
   "source": [
    "### CHM15k Calibration"
   ]
  },
  {
   "cell_type": "markdown",
   "metadata": {},
   "source": [
    "To retrieve the true value of the signal and make the signals from different instruments comparable, a calibration step is required (Wiegner and Geiss, 2012).\n",
    "\n",
    "Rayleigh method : selection of clear-sky nights, in an altitude range around 5 km, where the atmosphere is expected to contain only a very small amount of aerosols. \n",
    "\n",
    "In such conditions, the signal can be considered close to the theoretical molecular (Rayleigh) backscatter profile, \n",
    "\n",
    "which is well known (temperature and pressure references) and can therefore serve as a reference.\n",
    "\n",
    "\n",
    "For each clear-sky night, a calibration constant is derived. \n",
    "\n",
    "The final calibration constant used for the instrument is defined as the median of all values obtained over multiple clear-sky nights. \n",
    "\n",
    "It should be noted, however, that this approach is still under discussion, as a seasonal cycle has been observed in the calibration values, although very likely to be instrument-related\n",
    "\n",
    "\n",
    "Once the calibration constant is determined, the attenuated backscatter signal can be calculated as: Attenuated backscatter signal = Backscatter signal / calibration constant "
   ]
  },
  {
   "cell_type": "code",
   "execution_count": null,
   "metadata": {
    "scrolled": true
   },
   "outputs": [],
   "source": [
    "#13\n",
    "# Plot time serie of calibration constants at Fuerstenzell\n",
    "\n",
    "plt.figure(figsize=(14, 9))\n",
    "\n",
    "img = mpimg.imread(f\"{path_data}/Calibration_constants.png\")\n",
    "\n",
    "plt.imshow(img)\n",
    "plt.axis(\"off\")  \n",
    "plt.show()\n"
   ]
  },
  {
   "cell_type": "markdown",
   "metadata": {},
   "source": [
    "The amplitude of calibration constants dependant of the laser optical module (LOM)\n",
    "\n",
    "No impact of the firmware\n",
    "\n",
    "Clear seasonal cycle => PROBE Cost Action VMG : Bruxmann (https://doi.org/10.5281/zenodo.11108621), Van Hove (https://doi.org/10.5281/zenodo.11074353)"
   ]
  },
  {
   "cell_type": "code",
   "execution_count": null,
   "metadata": {},
   "outputs": [],
   "source": [
    "#14\n",
    "### Plot attenuated & corrected backscatter signal \n",
    "\n",
    "show_MLH = 0 # 1 if you want the MLH to appear on the backscatter signal\n",
    "zoom = 0\n",
    "\n",
    "date_ = date(2022, 7, 4)\n",
    "field1 = raw_signal_chm_palaiseau\n",
    "field2 = corrected_signal_chm_palaiseau \n",
    "site1 = \"palaiseau_raw\"\n",
    "site2 = \"palaiseau_corrected\"\n",
    "\n",
    "data = {\n",
    "    \"MLH_palaiseau_raw\": list(MLH_raw_signal),\n",
    "    \"MLH_palaiseau_corrected\": list(MLH_corrected_signal),\n",
    "}\n",
    "\n",
    "df = pd.DataFrame(data, index = MLH_raw_signal.index)\n",
    "\n",
    "vmin1 = 0\n",
    "vmin2 = 0\n",
    "vmax1 = 5 * 10**5\n",
    "vmax2 = 1 * 10**-6\n",
    "\n",
    "plot_MLH(date_, field1, field2, site1, site2, df, vmin1, vmin2, vmax1, vmax2, show_MLH, zoom, \"magma\")"
   ]
  },
  {
   "cell_type": "code",
   "execution_count": null,
   "metadata": {},
   "outputs": [],
   "source": [
    "\n",
    "\n",
    "\n",
    "\n"
   ]
  },
  {
   "cell_type": "markdown",
   "metadata": {},
   "source": [
    "## CL61\n"
   ]
  },
  {
   "cell_type": "markdown",
   "metadata": {},
   "source": [
    "The Vaisala CL61 is a ceilometer that provides continuous vertical profiling of the atmosphere up to 15 km with a resolution of about 5m. Unlike traditional \n",
    "\n",
    "ceilometers, the CL61 includes depolarization measurements, which enable to determine the aerosol type such as dust, volcanic ash, or smoke. \n",
    "\n",
    "In theory, the CL61 is designed to deliver calibrated measurements without requiring additional corrections; \n",
    "\n",
    "however, in practice, some adjustments may still be necessary to ensure data consistency across different sites and conditions. "
   ]
  },
  {
   "cell_type": "code",
   "execution_count": null,
   "metadata": {},
   "outputs": [],
   "source": []
  },
  {
   "cell_type": "code",
   "execution_count": null,
   "metadata": {},
   "outputs": [],
   "source": [
    "#15\n",
    "### Make data easier to exploit and lighter\n",
    "\n",
    "# CL61 Raw signal\n",
    "L1_CL61 = from_df_to_pivot(L1_CL61, \"rcs_0\", 1)\n",
    "L1_CL61 = L1_CL61.loc[:3000]\n",
    "\n",
    "# CL61 Mixed Layer Height\n",
    "MLH_CL61 = MLH_CL61.droplevel(\"station\")\n",
    "MLH_CL61 = MLH_CL61.MLH.resample(\"15min\").mean()\n",
    "\n",
    "# CHM15k Paris\n",
    "corrected_signal_chm_paris = from_df_to_pivot(corrected_signal_chm_paris, \"beta\", 1)\n",
    "corrected_signal_chm_paris = corrected_signal_chm_paris.loc[:3000]\n",
    "\n",
    "# MLH Paris\n",
    "MLH_CHM15k = MLH_CHM15k.droplevel(\"station\")\n",
    "MLH_CHM15k = MLH_CHM15k.MLH.resample(\"15min\").mean()"
   ]
  },
  {
   "cell_type": "code",
   "execution_count": null,
   "metadata": {},
   "outputs": [],
   "source": [
    "#16\n",
    "### Example of data from CL61 \n",
    "\n",
    "L1_CL61"
   ]
  },
  {
   "cell_type": "code",
   "execution_count": null,
   "metadata": {
    "scrolled": true
   },
   "outputs": [],
   "source": [
    "#17\n",
    "# Plot CL61\n",
    "\n",
    "show_MLH = 1\n",
    "zoom = 0\n",
    "\n",
    "date_ = date(2022, 7, 2)\n",
    "field1 = corrected_signal_chm_paris\n",
    "field2 = L1_CL61\n",
    "site1 = \"CHM15K\"\n",
    "site2 = \"CL61\"\n",
    "\n",
    "data = {\n",
    "    \"MLH_CHM15K\": list(MLH_CHM15k),\n",
    "    \"MLH_CL61\": list(MLH_CL61)\n",
    "}\n",
    "\n",
    "df = pd.DataFrame(data, index = MLH_CHM15k.index)\n",
    "\n",
    "vmin1 = 0\n",
    "vmin2 = 0\n",
    "vmax1 = 1 * 10**-6\n",
    "vmax2 = 1 * 10**-6\n",
    "\n",
    "plot_MLH(date_, field1, field2, site1, site2, df, vmin1, vmin2, vmax1, vmax2, show_MLH, zoom, \"viridis\")"
   ]
  },
  {
   "cell_type": "markdown",
   "metadata": {},
   "source": [
    "About the previous figure :\n",
    "\n",
    "Lower limit possible with CL61 : very useful for night layer\n",
    "\n",
    "Although : depending on the blind zone height, the overlap correction quality it is possible to detected NL with CHM\n",
    "\n",
    "Very nice agreement possible under those conditions "
   ]
  },
  {
   "cell_type": "code",
   "execution_count": null,
   "metadata": {
    "scrolled": true
   },
   "outputs": [],
   "source": [
    "#18\n",
    "### Same figure but zoomed in at night\n",
    "\n",
    "vmin1 = 0\n",
    "vmax1 = 1 * 10**-6\n",
    "vmin2 = 0\n",
    "vmax2 = 1 * 10**-6\n",
    "\n",
    "show_MLH = 0\n",
    "zoom = 1\n",
    "plot_MLH(date_, field1, field2, site1, site2, df, vmin1, vmin2, vmax1, vmax2, 0, 1, \"viridis\")\n",
    "#plot_MLH(date_, field1, field2, site1, site2, df, vmin1, vmin2, vmax1, vmax2, 1, 1, \"viridis\")"
   ]
  },
  {
   "cell_type": "markdown",
   "metadata": {},
   "source": [
    "About the previous figure :\n",
    "\n",
    "Careful with near-range : underestimation (or at least artifact) of the signal around 100m \n",
    "\n",
    "Here we set a lower limit at 140m in STRATFinder to avoid any stuck MLH near-range"
   ]
  },
  {
   "cell_type": "markdown",
   "metadata": {},
   "source": [
    "## CL51\n",
    "### Overlap correction"
   ]
  },
  {
   "cell_type": "code",
   "execution_count": null,
   "metadata": {},
   "outputs": [],
   "source": [
    "#19\n",
    "### Make data easier to handle and analyse\n",
    "\n",
    "# Raw & Corrected signal \n",
    "raw_signal_cl51 = from_df_to_pivot(raw_signal_cl51, \"rcs_0\", 1)\n",
    "corrected_signal_cl51 = from_df_to_pivot(corrected_signal_cl51, \"RBCS\", 1)\n",
    "\n",
    "raw_signal_cl51 = raw_signal_cl51.loc[:3000]\n",
    "corrected_signal_cl51 = corrected_signal_cl51.loc[:3000]\n",
    "\n",
    "# MLH\n",
    "MLH_raw_CL51 = MLH_raw_CL51.reset_index(level=1,drop=True).MLH\n",
    "MLH_corrected_CL51 = MLH_corrected_CL51.reset_index(level=1,drop=True).MLH\n",
    "MLH_raw_CL51 = MLH_raw_CL51.resample(\"15min\").mean()\n",
    "MLH_corrected_CL51 = MLH_corrected_CL51.resample(\"15min\").mean()\n"
   ]
  },
  {
   "cell_type": "code",
   "execution_count": null,
   "metadata": {},
   "outputs": [],
   "source": [
    "#20\n",
    "# Example of data from a CL51\n",
    "\n",
    "corrected_signal_cl51"
   ]
  },
  {
   "cell_type": "code",
   "execution_count": null,
   "metadata": {
    "scrolled": true
   },
   "outputs": [],
   "source": [
    "#21\n",
    "\n",
    "show_MLH = 0\n",
    "zoom = 0\n",
    "\n",
    "date_ = date(2019, 6, 4)\n",
    "field1 = raw_signal_cl51\n",
    "field2 = corrected_signal_cl51 \n",
    "site1 = \"CL51_raw_signal\"\n",
    "site2 = \"CL51_corrected_signal\"\n",
    "\n",
    "data = {\n",
    "    f\"MLH_{site1}\": list(MLH_raw_CL51),\n",
    "    f\"MLH_{site2}\": list(MLH_corrected_CL51),\n",
    "}\n",
    "\n",
    "df = pd.DataFrame(data, index = MLH_raw_CL51.index)\n",
    "\n",
    "vmin1 = 0\n",
    "vmin2 = 0\n",
    "vmax1 = 1 * 10**2\n",
    "vmax2 = 1 * 10**6\n",
    "\n",
    "plot_MLH(date_, field1, field2, site1, site2, df, vmin1, vmin2, vmax1, vmax2, show_MLH, zoom, \"magma\")"
   ]
  },
  {
   "cell_type": "code",
   "execution_count": null,
   "metadata": {},
   "outputs": [],
   "source": [
    "\n",
    "\n",
    "\n",
    "\n",
    "\n",
    "\n"
   ]
  },
  {
   "cell_type": "code",
   "execution_count": null,
   "metadata": {},
   "outputs": [],
   "source": []
  },
  {
   "cell_type": "code",
   "execution_count": null,
   "metadata": {},
   "outputs": [],
   "source": []
  }
 ],
 "metadata": {
  "kernelspec": {
   "display_name": "pangeo 2025",
   "language": "python",
   "name": "pangeo-meso-2025.01.24"
  },
  "language_info": {
   "codemirror_mode": {
    "name": "ipython",
    "version": 3
   },
   "file_extension": ".py",
   "mimetype": "text/x-python",
   "name": "python",
   "nbconvert_exporter": "python",
   "pygments_lexer": "ipython3",
   "version": "3.12.9"
  }
 },
 "nbformat": 4,
 "nbformat_minor": 4
}
