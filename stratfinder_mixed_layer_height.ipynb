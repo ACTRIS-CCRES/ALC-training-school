{
 "cells": [
  {
   "cell_type": "markdown",
   "id": "3f9c955a",
   "metadata": {},
   "source": [
    "# CCRESS Training School - MUNICH 2025\n",
    "### STRATfinder : an automated detection algorithm of the mixed layer height\n",
    "#### NoteBook 2/2 : MLH Analysis - Climatology & Urban effect\n",
    "\n",
    "This NoteBook provides a tool to analyse mixed-layer height (MLH) results derived from automatic lidar and ceilometers (ALC) observations using the STRATfinder tool (see NoteBook 1/2).\n",
    "\n",
    "All results are obtained in the framework of the ABL testbed project (https://ablh.aeris-data.fr/)\n",
    "\n",
    "Analysis provides some insights in temporal and spatial variations of MLH:\n",
    "\n",
    "a) a first comparison between STRATfinder MLH (aerosol-based MLH) with MLH retrieved from Doppler Wind lidar (DWL) observations of vertical velocity variance, a common measurement of vertical mixing derived from continuous vertical stare observations.\n",
    "\n",
    "b) case studies of MLH results in Paris and Rotterdam are compared to further explore regional variability in MLH.\n",
    "\n",
    "c) multi-year MLH results at different European sites are compared\n",
    "\n",
    "#### M. Van Hove, IPSL & S. Kotthaus, Ecole Polytechnique \n",
    "#### Contact : mvanhove@ipsl.fr"
   ]
  },
  {
   "cell_type": "code",
   "execution_count": null,
   "id": "8c7e621c",
   "metadata": {},
   "outputs": [],
   "source": [
    "#1\n",
    "\n",
    "## ---------- Import librarires ------------\n",
    "import xarray as xr\n",
    "import numpy as np\n",
    "import pandas as pd\n",
    "import matplotlib.pyplot as plt\n",
    "import matplotlib.gridspec as gridspec\n",
    "import matplotlib.image as mpimg\n",
    "\n",
    "from datetime import date, timedelta, time\n",
    "from pvlib.location import Location\n",
    "\n",
    "from functions import get_sr_ss, get_med, from_df_to_pivot, plot_MLH\n"
   ]
  },
  {
   "cell_type": "code",
   "execution_count": null,
   "id": "de9dbcb9-985c-4b77-bc69-ed72849a5ed1",
   "metadata": {},
   "outputs": [],
   "source": [
    "## -------- Path to data ----------- \n",
    "\n",
    "path_data = \"/data/ACTRIS-CCRES/abl_heights/\""
   ]
  },
  {
   "cell_type": "markdown",
   "id": "8d9ff6f2-856c-4fae-b817-ff1be3cc01dc",
   "metadata": {},
   "source": [
    "## Doppler Wind Lidar (DWL) VS CL61\n",
    "\n",
    "Layer heights obtained based on turbulence vs aerosol profiles\n",
    "\n",
    "Comparison between two methods\n",
    "\n",
    "A) turbulence-based detection: profiles of vertical velocity variance (Doppler wind lidar - Vaisala WCS400s)\n",
    "\n",
    "B) aerosol-based detection: profiles of attenuated backscatter signal (ALC - Vaisala CL61)"
   ]
  },
  {
   "cell_type": "code",
   "execution_count": null,
   "id": "43dee29e-b7af-4f74-ae06-ac1f4c8480dc",
   "metadata": {},
   "outputs": [],
   "source": [
    "#2\n",
    "\n",
    "## ----------- Load data -----------\n",
    "\n",
    "### =========== CL61 ==============\n",
    "# The CL61 provide attenuated backscatter from first gate to 15km \n",
    "# No correction should be required according to Vaisala, although a near-range correction is in progress at SIRTA  \n",
    "\n",
    "# raw signal : L1 files\n",
    "L1_CL61 =  xr.open_dataset(f\"{path_data}/cl61_1a_HOTE_v01_20220702_000000_1440.nc\").rcs_0.to_dataframe()\n",
    "\n",
    "# Mixed layer height derived by STRATfinder (MLH)\n",
    "MLH_CL61 = xr.open_dataset(f\"{path_data}/cl61_1a_HOTE_v01_20220702_000000_1440_L2A_140.nc\").to_dataframe()\n",
    "\n",
    "#\n",
    "### ============ W400S DWL =============\n",
    "\n",
    "## ------------- load variance data ------------\n",
    "variance_field = xr.open_dataset(f\"{path_data}/data_20220702_test.nc\").sigma_w.to_dataframe()\n",
    "variance_field = variance_field[~variance_field.index.duplicated(keep='first')]\n",
    "\n",
    "## ------------- load MLH data --------------\n",
    "MLH_ws400_flag = pd.read_csv(f\"{path_data}/MLH_ws400_2022_flag_rain.csv\")\n",
    "MLH_ws400_flag = MLH_ws400_flag.set_index(\"time\")\n",
    "MLH_ws400_flag.index = pd.to_datetime(MLH_ws400_flag.index)\n",
    "MLH_ws400_flag = MLH_ws400_flag.MLH\n"
   ]
  },
  {
   "cell_type": "code",
   "execution_count": null,
   "id": "6f0ad9da-2f41-44dd-92db-9b38f19858fa",
   "metadata": {},
   "outputs": [],
   "source": [
    "#3\n",
    "## -------- Make data easier to handle and lighter ------------\n",
    "\n",
    "L1_CL61 = from_df_to_pivot(L1_CL61, \"rcs_0\", 1)\n",
    "L1_CL61 = L1_CL61.loc[:3000]\n",
    "\n",
    "MLH_CL61 = MLH_CL61.droplevel(\"station\")\n",
    "MLH_CL61 = MLH_CL61.MLH.resample(\"15min\").mean()\n",
    "\n",
    "variance_field = from_df_to_pivot(variance_field, \"sigma_w\", 0)"
   ]
  },
  {
   "cell_type": "code",
   "execution_count": null,
   "id": "d2c5ebda-028a-4b91-96db-29510e4a4d48",
   "metadata": {
    "scrolled": true
   },
   "outputs": [],
   "source": [
    "#4\n",
    "date_ = date(2022, 7, 2)\n",
    "field1 = variance_field\n",
    "field2 = L1_CL61 \n",
    "site1 = \"DWL\"\n",
    "site2 = \"CL61\"\n",
    "MLH_ws400_flag = MLH_ws400_flag[MLH_ws400_flag.index.date == date_]\n",
    "\n",
    "data = {\n",
    "    f\"MLH_{site1}\": list(MLH_ws400_flag),\n",
    "    f\"MLH_{site2}\": list(MLH_CL61),\n",
    "}\n",
    "\n",
    "df = pd.DataFrame(data, index = MLH_CL61.index)\n",
    "\n",
    "vmin1 = 0\n",
    "vmin2 = 0\n",
    "vmax1 = 1 * 10**0\n",
    "vmax2 = 1 * 10**-6\n",
    "\n",
    "plot_MLH(date_, field1, field2, site1, site2, df, vmin1, vmin2, vmax1, vmax2, 1, 0, \"magma\")"
   ]
  },
  {
   "cell_type": "markdown",
   "id": "679b33cf-e0d7-466b-95a1-3d2bbf2854a2",
   "metadata": {},
   "source": [
    "The turbulence-derived mixing height from DWL observations appears to rise slightly earlier in the morning than the aerosol-based layer height on some case study days. \n",
    "\n",
    "This has also been found in the literature (e.g. Kotthaus et al. 2018).\n",
    "\n"
   ]
  },
  {
   "cell_type": "code",
   "execution_count": null,
   "id": "6fec4c8d-c471-4fb1-8bf0-3a2d3a26208d",
   "metadata": {},
   "outputs": [],
   "source": []
  },
  {
   "cell_type": "markdown",
   "id": "044dbaf3-21cb-4e1e-af8e-b87fb45d6bdb",
   "metadata": {},
   "source": [
    "## Urban case study #1: Continental climate, flat terrain\n",
    "Urban site: Paris\n",
    "Suburban site: SIRTA (~25 km Southwest of the city)"
   ]
  },
  {
   "cell_type": "code",
   "execution_count": null,
   "id": "22464aa9",
   "metadata": {},
   "outputs": [],
   "source": [
    "#5\n",
    "## --------- Load data -----------\n",
    "\n",
    "MLH_palaiseau = xr.open_mfdataset(f\"{path_data}/eprofile_L2B_STRATFINDER_palaiseau_chm15k-B_v01_2022071*.nc\").MLH.to_dataframe()\n",
    "MLH_paris = xr.open_mfdataset(f\"{path_data}/eprofile_L2B_STRATFINDER_qualair_chm15k-A_v01_2022071*.nc\").MLH.to_dataframe()\n",
    "MLH_palaiseau = MLH_palaiseau.droplevel(\"station_name\").resample(\"15min\").mean()\n",
    "MLH_paris = MLH_paris.droplevel(\"station_name\").resample(\"15min\").mean()"
   ]
  },
  {
   "cell_type": "code",
   "execution_count": null,
   "id": "10fff64b",
   "metadata": {
    "scrolled": true
   },
   "outputs": [],
   "source": [
    "#6\n",
    "## --------- Plot time serie in summer -------------\n",
    "\n",
    "df_urban = MLH_paris[MLH_paris.index.date >= date(2022,7,12)]\n",
    "df_suburban = MLH_palaiseau[MLH_palaiseau.index.date >= date(2022,7,12)]\n",
    "\n",
    "fig, ax = plt.subplots(figsize=(18, 4)) \n",
    "\n",
    "ax.fill_between(df_urban.index, -0, 3000,\n",
    "                where=((df_urban.index.time < time(4,0,0)) | (df_urban.index.time > time(20,0,0))), alpha=0.1, color='darkblue',\n",
    "                label='Night')\n",
    "ax.set_ylim([0,3400])\n",
    "\n",
    "ax.plot(df_urban.MLH, label = \"Paris\")\n",
    "ax.plot(df_suburban.MLH, label = \"Palaiseau\")\n",
    "\n",
    "plt.legend()"
   ]
  },
  {
   "cell_type": "markdown",
   "id": "11e5b207-fc0a-4c45-9c72-e39afe2de78c",
   "metadata": {},
   "source": [
    "Visible urban effect : higher MLH in the city center\n",
    "\n",
    "Influence of the wind :\n",
    "\n",
    "NE (SIRTA downwind the city center) : lower delta MLH => stronger winds, homogenization of the atmosphere (aerosols, temperature, humidity...)\n",
    "\n",
    "SW (SIRTA upwind the city center) : higher delta MLH => lower winds, less mixing\n",
    "\n",
    "Consistent with D. Looschelders (University of Freiburg)"
   ]
  },
  {
   "cell_type": "code",
   "execution_count": null,
   "id": "87bc72b4-d8f0-473b-9d0b-96491e80c087",
   "metadata": {},
   "outputs": [],
   "source": []
  },
  {
   "cell_type": "markdown",
   "id": "0dfcca02-b158-4324-a130-15fb1776c515",
   "metadata": {},
   "source": [
    "\n",
    "## Urban case study #2: Marine influence\n",
    "Urban site: Rotterdam\n",
    "Rural site: Cabauw (~20 km East of the city)"
   ]
  },
  {
   "cell_type": "code",
   "execution_count": null,
   "id": "37951ec7",
   "metadata": {},
   "outputs": [],
   "source": [
    "#7\n",
    "## ----------- Load data ----------------\n",
    "\n",
    "signal_cabauw = xr.open_dataset(f\"{path_data}/eprofile_BSC_STRATFINDER_cabauw_chm15k-A_v01_20220811.nc\").beta.to_dataframe()\n",
    "signal_rotterdam = xr.open_dataset(f\"{path_data}/eprofile_BSC_STRATFINDER_rotterdam_chm15k-Y_v01_20220811.nc\").beta.to_dataframe()\n",
    "MLH_cabauw = xr.open_dataset(f\"{path_data}/eprofile_L2B_STRATFINDER_cabauw_chm15k-A_v01_20220811.nc\").MLH.to_dataframe()\n",
    "MLH_rotterdam = xr.open_dataset(f\"{path_data}/eprofile_L2B_STRATFINDER_rotterdam_chm15k-Y_v01_20220811.nc\").MLH.to_dataframe()"
   ]
  },
  {
   "cell_type": "code",
   "execution_count": null,
   "id": "44e89d83-6ce9-4df1-8590-db2fffaa4d1b",
   "metadata": {},
   "outputs": [],
   "source": [
    "#8\n",
    "## ---------- Make data easier to handle ---------\n",
    "\n",
    "signal_cabauw = from_df_to_pivot(signal_cabauw, \"beta\", 1)\n",
    "signal_rotterdam = from_df_to_pivot(signal_rotterdam, \"beta\", 1)\n",
    "\n",
    "MLH_cabauw = MLH_cabauw.droplevel(\"station_name\").resample(\"15min\").mean()\n",
    "MLH_rotterdam = MLH_rotterdam.droplevel(\"station_name\").resample(\"15min\").mean()"
   ]
  },
  {
   "cell_type": "code",
   "execution_count": null,
   "id": "0cd8d5d0",
   "metadata": {},
   "outputs": [],
   "source": [
    "#9\n",
    "## ----------- Plot attenuated backscatter signal & MLH ---------------\n",
    "\n",
    "date_ = date(2022, 8, 11)\n",
    "field1 = signal_cabauw\n",
    "field2 = signal_rotterdam\n",
    "site1 = \"Cabauw\"\n",
    "site2 = \"Rotterdam\"\n",
    "\n",
    "data = {\n",
    "    \"MLH_Cabauw\": list(MLH_cabauw.MLH),\n",
    "    \"MLH_Rotterdam\": list(MLH_rotterdam.MLH),\n",
    "}\n",
    "\n",
    "df = pd.DataFrame(data, index = MLH_rotterdam.index)\n",
    "\n",
    "vmin1 = 0\n",
    "vmin2 = 0\n",
    "vmax1 = 1 * 10**-6\n",
    "vmax2 = 1 * 10**-6\n",
    "\n",
    "plot_MLH(date_, field1, field2, site1, site2, df, vmin1, vmin2, vmax1, vmax2, 1, 0, \"viridis\")"
   ]
  },
  {
   "cell_type": "markdown",
   "id": "cf8e71d9-6e1b-4a1f-951d-abcbfb3f0483",
   "metadata": {},
   "source": [
    "Unexpected result : higher MLH in the rural environment\n",
    "\n",
    "Marine influence ? "
   ]
  },
  {
   "cell_type": "code",
   "execution_count": null,
   "id": "f0137b5e-258a-4653-b65e-517ebdbf631c",
   "metadata": {},
   "outputs": [],
   "source": []
  },
  {
   "cell_type": "markdown",
   "id": "26825132",
   "metadata": {},
   "source": [
    "## European MLH climatology in summer"
   ]
  },
  {
   "cell_type": "code",
   "execution_count": null,
   "id": "80d52dc5",
   "metadata": {},
   "outputs": [],
   "source": [
    "#10\n",
    "## -------- Load data -------------\n",
    "\n",
    "### ========= CHM15k ==============\n",
    "# MLH from : \n",
    "# Palaiseau 2015 - 2024 (France) \n",
    "# Cabauw 2018 - 2024 (Rotterdam, Netherlands) \n",
    "# Magurele 2019 - 2024 (Bucharest, Romania)\n",
    "# Granada 2018 - 2024 (Spain)\n",
    "\n",
    "sites = [\"palaiseau\", \"cabauw\", \"magurele\", \"granada\"]\n",
    "\n",
    "dict_MLH = {} \n",
    "dict_lat = {}\n",
    "dict_lon = {}\n",
    "\n",
    "for site in sites :\n",
    "    dict_MLH[f\"MLH_{site}\"] = pd.read_csv(f\"{path_data}/MLH_{site}.csv\")\n",
    "    dict_lat[f\"lat_{site}\"] = float(xr.open_mfdataset(f\"{path_data}/eprofile_L2B*{site}*2022*_15min.nc\").station_latitude[0].values)\n",
    "    dict_lon[f\"lon_{site}\"] = float(xr.open_mfdataset(f\"{path_data}/eprofile_L2B*{site}*2022*_15min.nc\").station_longitude[0].values)\n",
    "    dict_MLH[f\"MLH_{site}\"] = dict_MLH[f\"MLH_{site}\"].drop(columns = [\"station_name\"])\n",
    "    dict_MLH[f\"MLH_{site}\"] = dict_MLH[f\"MLH_{site}\"].set_index(\"time\")\n",
    "    dict_MLH[f\"MLH_{site}\"].index = pd.to_datetime(dict_MLH[f\"MLH_{site}\"].index)\n"
   ]
  },
  {
   "cell_type": "code",
   "execution_count": null,
   "id": "e111317a-11a6-4071-8f99-71a863af043b",
   "metadata": {},
   "outputs": [],
   "source": [
    "#11\n",
    "## -------- Get median diurnal cycle for summer ----------\n",
    "\n",
    "for site in sites :\n",
    "    dict_MLH[f\"MLH_{site}\"] = get_sr_ss(site, dict_MLH, dict_lat, dict_lon)\n",
    "    dict_MLH[f\"MLH_{site}_jja\"] = get_med(site, \"MLH\", dict_MLH, dict_lat, dict_lon)"
   ]
  },
  {
   "cell_type": "code",
   "execution_count": null,
   "id": "4557ba9f",
   "metadata": {},
   "outputs": [],
   "source": [
    "dict_MLH[f\"MLH_cabauw_jja\"]"
   ]
  },
  {
   "cell_type": "code",
   "execution_count": null,
   "id": "794d295f",
   "metadata": {
    "scrolled": true
   },
   "outputs": [],
   "source": [
    "#12\n",
    "\n",
    "## -------- Plot MLH median cycles ----------\n",
    "fig = plt.figure(figsize=(8, 6))\n",
    "\n",
    "plt.title(\"MLH Median cycle in summer\",  y=1.1)\n",
    "lim = 100\n",
    "for site in sites :\n",
    "    df = dict_MLH[f\"MLH_{site}_jja\"].copy()\n",
    "    plt.plot(df.time_relSR[df.nsamples > lim], df.mlh[df.nsamples > lim], label=f'{site}', linewidth = 4)\n",
    "    plt.fill_between(df[df.nsamples > lim].time_relSR, df[df.nsamples > lim].q3, df[df.nsamples > lim].q1, alpha=0.2)\n",
    "\n",
    "plt.xlabel(\"Time relative to SR [hour]\",fontsize=14)\n",
    "plt.ylabel(\"Range [magl]\", fontsize=14)\n",
    "plt.tick_params(axis='x', labelsize=12)\n",
    "plt.tick_params(axis='y', labelsize=12)\n",
    "plt.legend(fontsize=14, loc=\"upper left\")\n",
    "\n"
   ]
  },
  {
   "cell_type": "markdown",
   "id": "7bd72fc0-2d4d-4330-a893-0a23a00ff347",
   "metadata": {},
   "source": [
    "Clear correlation with type of climate \n",
    "\n",
    "Higher MLH in warmer / dryer cities\n",
    "\n",
    "Granada : different morning growth, higher nocturnal layer (quality control? real values?), proximity with saharian desert : external source of aerosols ?"
   ]
  },
  {
   "cell_type": "code",
   "execution_count": null,
   "id": "4880d63a-44d6-478e-a8fc-af7c5b3a45e9",
   "metadata": {},
   "outputs": [],
   "source": []
  },
  {
   "cell_type": "code",
   "execution_count": null,
   "id": "c82dade4-1c9c-44db-a679-21bf649c3421",
   "metadata": {},
   "outputs": [],
   "source": []
  }
 ],
 "metadata": {
  "kernelspec": {
   "display_name": "pangeo 2025",
   "language": "python",
   "name": "pangeo-meso-2025.01.24"
  },
  "language_info": {
   "codemirror_mode": {
    "name": "ipython",
    "version": 3
   },
   "file_extension": ".py",
   "mimetype": "text/x-python",
   "name": "python",
   "nbconvert_exporter": "python",
   "pygments_lexer": "ipython3",
   "version": "3.12.9"
  }
 },
 "nbformat": 4,
 "nbformat_minor": 5
}
